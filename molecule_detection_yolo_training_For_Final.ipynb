{
 "cells": [
  {
   "cell_type": "code",
   "execution_count": 1,
   "metadata": {},
   "outputs": [
    {
     "name": "stdout",
     "output_type": "stream",
     "text": [
      "Requirement already satisfied: gitpython>=3.1.30 in /Users/tannerjameshill/.local/lib/python3.9/site-packages (from -r ./requirements.txt (line 5)) (3.1.31)\n",
      "Requirement already satisfied: matplotlib>=3.3 in /Users/tannerjameshill/.local/lib/python3.9/site-packages (from -r ./requirements.txt (line 6)) (3.7.1)\n",
      "Requirement already satisfied: numpy>=1.18.5 in /Users/tannerjameshill/.local/lib/python3.9/site-packages (from -r ./requirements.txt (line 7)) (1.24.3)\n",
      "Requirement already satisfied: opencv-python>=4.1.1 in /Users/tannerjameshill/.local/lib/python3.9/site-packages (from -r ./requirements.txt (line 8)) (4.7.0.72)\n",
      "Requirement already satisfied: Pillow>=7.1.2 in /Users/tannerjameshill/.local/lib/python3.9/site-packages (from -r ./requirements.txt (line 9)) (9.5.0)\n",
      "Requirement already satisfied: psutil in /Users/tannerjameshill/anaconda3/envs/yolov5/lib/python3.9/site-packages (from -r ./requirements.txt (line 10)) (5.9.0)\n",
      "Requirement already satisfied: PyYAML>=5.3.1 in /Users/tannerjameshill/.local/lib/python3.9/site-packages (from -r ./requirements.txt (line 11)) (6.0)\n",
      "Requirement already satisfied: requests>=2.23.0 in /Users/tannerjameshill/anaconda3/envs/yolov5/lib/python3.9/site-packages (from -r ./requirements.txt (line 12)) (2.29.0)\n",
      "Requirement already satisfied: scipy>=1.4.1 in /Users/tannerjameshill/.local/lib/python3.9/site-packages (from -r ./requirements.txt (line 13)) (1.9.1)\n",
      "Requirement already satisfied: thop>=0.1.1 in /Users/tannerjameshill/.local/lib/python3.9/site-packages (from -r ./requirements.txt (line 14)) (0.1.1.post2209072238)\n",
      "Requirement already satisfied: torch>=1.7.0 in /Users/tannerjameshill/.local/lib/python3.9/site-packages (from -r ./requirements.txt (line 15)) (2.0.1)\n",
      "Requirement already satisfied: torchvision>=0.8.1 in /Users/tannerjameshill/.local/lib/python3.9/site-packages (from -r ./requirements.txt (line 16)) (0.15.2)\n",
      "Requirement already satisfied: tqdm>=4.64.0 in /Users/tannerjameshill/.local/lib/python3.9/site-packages (from -r ./requirements.txt (line 17)) (4.65.0)\n",
      "Requirement already satisfied: ultralytics>=8.0.100 in /Users/tannerjameshill/.local/lib/python3.9/site-packages (from -r ./requirements.txt (line 18)) (8.0.103)\n",
      "Requirement already satisfied: pandas>=1.1.4 in /Users/tannerjameshill/.local/lib/python3.9/site-packages (from -r ./requirements.txt (line 27)) (2.0.1)\n",
      "Requirement already satisfied: seaborn>=0.11.0 in /Users/tannerjameshill/.local/lib/python3.9/site-packages (from -r ./requirements.txt (line 28)) (0.12.2)\n",
      "Requirement already satisfied: setuptools>=65.5.1 in /Users/tannerjameshill/anaconda3/envs/yolov5/lib/python3.9/site-packages (from -r ./requirements.txt (line 42)) (66.0.0)\n",
      "Requirement already satisfied: gitdb<5,>=4.0.1 in /Users/tannerjameshill/.local/lib/python3.9/site-packages (from gitpython>=3.1.30->-r ./requirements.txt (line 5)) (4.0.10)\n",
      "Requirement already satisfied: contourpy>=1.0.1 in /Users/tannerjameshill/.local/lib/python3.9/site-packages (from matplotlib>=3.3->-r ./requirements.txt (line 6)) (1.0.7)\n",
      "Requirement already satisfied: python-dateutil>=2.7 in /Users/tannerjameshill/anaconda3/envs/yolov5/lib/python3.9/site-packages (from matplotlib>=3.3->-r ./requirements.txt (line 6)) (2.8.2)\n",
      "Requirement already satisfied: fonttools>=4.22.0 in /Users/tannerjameshill/.local/lib/python3.9/site-packages (from matplotlib>=3.3->-r ./requirements.txt (line 6)) (4.39.4)\n",
      "Requirement already satisfied: cycler>=0.10 in /Users/tannerjameshill/.local/lib/python3.9/site-packages (from matplotlib>=3.3->-r ./requirements.txt (line 6)) (0.11.0)\n",
      "Requirement already satisfied: importlib-resources>=3.2.0 in /Users/tannerjameshill/.local/lib/python3.9/site-packages (from matplotlib>=3.3->-r ./requirements.txt (line 6)) (5.12.0)\n",
      "Requirement already satisfied: packaging>=20.0 in /Users/tannerjameshill/anaconda3/envs/yolov5/lib/python3.9/site-packages (from matplotlib>=3.3->-r ./requirements.txt (line 6)) (23.0)\n",
      "Requirement already satisfied: pyparsing>=2.3.1 in /Users/tannerjameshill/.local/lib/python3.9/site-packages (from matplotlib>=3.3->-r ./requirements.txt (line 6)) (3.0.9)\n",
      "Requirement already satisfied: kiwisolver>=1.0.1 in /Users/tannerjameshill/.local/lib/python3.9/site-packages (from matplotlib>=3.3->-r ./requirements.txt (line 6)) (1.4.4)\n",
      "Requirement already satisfied: certifi>=2017.4.17 in /Users/tannerjameshill/anaconda3/envs/yolov5/lib/python3.9/site-packages (from requests>=2.23.0->-r ./requirements.txt (line 12)) (2023.5.7)\n",
      "Requirement already satisfied: charset-normalizer<4,>=2 in /Users/tannerjameshill/anaconda3/envs/yolov5/lib/python3.9/site-packages (from requests>=2.23.0->-r ./requirements.txt (line 12)) (2.0.4)\n",
      "Requirement already satisfied: urllib3<1.27,>=1.21.1 in /Users/tannerjameshill/anaconda3/envs/yolov5/lib/python3.9/site-packages (from requests>=2.23.0->-r ./requirements.txt (line 12)) (1.26.15)\n",
      "Requirement already satisfied: idna<4,>=2.5 in /Users/tannerjameshill/anaconda3/envs/yolov5/lib/python3.9/site-packages (from requests>=2.23.0->-r ./requirements.txt (line 12)) (3.4)\n",
      "Requirement already satisfied: sympy in /Users/tannerjameshill/.local/lib/python3.9/site-packages (from torch>=1.7.0->-r ./requirements.txt (line 15)) (1.11.1)\n",
      "Requirement already satisfied: filelock in /Users/tannerjameshill/.local/lib/python3.9/site-packages (from torch>=1.7.0->-r ./requirements.txt (line 15)) (3.12.0)\n",
      "Requirement already satisfied: networkx in /Users/tannerjameshill/.local/lib/python3.9/site-packages (from torch>=1.7.0->-r ./requirements.txt (line 15)) (3.1)\n",
      "Requirement already satisfied: jinja2 in /Users/tannerjameshill/anaconda3/envs/yolov5/lib/python3.9/site-packages (from torch>=1.7.0->-r ./requirements.txt (line 15)) (3.1.2)\n",
      "Requirement already satisfied: typing-extensions in /Users/tannerjameshill/anaconda3/envs/yolov5/lib/python3.9/site-packages (from torch>=1.7.0->-r ./requirements.txt (line 15)) (4.5.0)\n",
      "Requirement already satisfied: sentry-sdk in /Users/tannerjameshill/.local/lib/python3.9/site-packages (from ultralytics>=8.0.100->-r ./requirements.txt (line 18)) (1.23.0)\n",
      "Requirement already satisfied: tzdata>=2022.1 in /Users/tannerjameshill/.local/lib/python3.9/site-packages (from pandas>=1.1.4->-r ./requirements.txt (line 27)) (2023.3)\n",
      "Requirement already satisfied: pytz>=2020.1 in /Users/tannerjameshill/anaconda3/envs/yolov5/lib/python3.9/site-packages (from pandas>=1.1.4->-r ./requirements.txt (line 27)) (2022.7)\n",
      "Requirement already satisfied: smmap<6,>=3.0.1 in /Users/tannerjameshill/.local/lib/python3.9/site-packages (from gitdb<5,>=4.0.1->gitpython>=3.1.30->-r ./requirements.txt (line 5)) (5.0.0)\n",
      "Requirement already satisfied: zipp>=3.1.0 in /Users/tannerjameshill/anaconda3/envs/yolov5/lib/python3.9/site-packages (from importlib-resources>=3.2.0->matplotlib>=3.3->-r ./requirements.txt (line 6)) (3.11.0)\n",
      "Requirement already satisfied: six>=1.5 in /Users/tannerjameshill/anaconda3/envs/yolov5/lib/python3.9/site-packages (from python-dateutil>=2.7->matplotlib>=3.3->-r ./requirements.txt (line 6)) (1.16.0)\n",
      "Requirement already satisfied: MarkupSafe>=2.0 in /Users/tannerjameshill/anaconda3/envs/yolov5/lib/python3.9/site-packages (from jinja2->torch>=1.7.0->-r ./requirements.txt (line 15)) (2.1.1)\n",
      "Requirement already satisfied: mpmath>=0.19 in /Users/tannerjameshill/.local/lib/python3.9/site-packages (from sympy->torch>=1.7.0->-r ./requirements.txt (line 15)) (1.3.0)\n",
      "Note: you may need to restart the kernel to use updated packages.\n",
      "Requirement already satisfied: sklearn in /Users/tannerjameshill/.local/lib/python3.9/site-packages (0.0.post5)\n",
      "Requirement already satisfied: scikit-image in /Users/tannerjameshill/.local/lib/python3.9/site-packages (0.20.0)\n",
      "Requirement already satisfied: azureml-core in /Users/tannerjameshill/.local/lib/python3.9/site-packages (1.50.0)\n",
      "Requirement already satisfied: networkx>=2.8 in /Users/tannerjameshill/.local/lib/python3.9/site-packages (from scikit-image) (3.1)\n",
      "Requirement already satisfied: scipy<1.9.2,>=1.8 in /Users/tannerjameshill/.local/lib/python3.9/site-packages (from scikit-image) (1.9.1)\n",
      "Requirement already satisfied: pillow>=9.0.1 in /Users/tannerjameshill/.local/lib/python3.9/site-packages (from scikit-image) (9.5.0)\n",
      "Requirement already satisfied: PyWavelets>=1.1.1 in /Users/tannerjameshill/.local/lib/python3.9/site-packages (from scikit-image) (1.4.1)\n",
      "Requirement already satisfied: tifffile>=2019.7.26 in /Users/tannerjameshill/.local/lib/python3.9/site-packages (from scikit-image) (2023.4.12)\n",
      "Requirement already satisfied: lazy_loader>=0.1 in /Users/tannerjameshill/.local/lib/python3.9/site-packages (from scikit-image) (0.2)\n",
      "Requirement already satisfied: packaging>=20.0 in /Users/tannerjameshill/anaconda3/envs/yolov5/lib/python3.9/site-packages (from scikit-image) (23.0)\n",
      "Requirement already satisfied: numpy>=1.21.1 in /Users/tannerjameshill/.local/lib/python3.9/site-packages (from scikit-image) (1.24.3)\n",
      "Requirement already satisfied: imageio>=2.4.1 in /Users/tannerjameshill/.local/lib/python3.9/site-packages (from scikit-image) (2.28.1)\n",
      "Requirement already satisfied: argcomplete<3 in /Users/tannerjameshill/.local/lib/python3.9/site-packages (from azureml-core) (2.1.2)\n",
      "Requirement already satisfied: azure-common<2.0.0,>=1.1.12 in /Users/tannerjameshill/.local/lib/python3.9/site-packages (from azureml-core) (1.1.28)\n",
      "Requirement already satisfied: SecretStorage<4.0.0 in /Users/tannerjameshill/.local/lib/python3.9/site-packages (from azureml-core) (3.3.3)\n",
      "Requirement already satisfied: paramiko<4.0.0,>=2.0.8 in /Users/tannerjameshill/.local/lib/python3.9/site-packages (from azureml-core) (3.1.0)\n",
      "Requirement already satisfied: azure-mgmt-storage<=21.0.0,>=16.0.0 in /Users/tannerjameshill/.local/lib/python3.9/site-packages (from azureml-core) (21.0.0)\n",
      "Requirement already satisfied: backports.tempfile in /Users/tannerjameshill/.local/lib/python3.9/site-packages (from azureml-core) (1.0)\n",
      "Requirement already satisfied: jsonpickle<4.0.0 in /Users/tannerjameshill/.local/lib/python3.9/site-packages (from azureml-core) (3.0.1)\n",
      "Requirement already satisfied: python-dateutil<3.0.0,>=2.7.3 in /Users/tannerjameshill/anaconda3/envs/yolov5/lib/python3.9/site-packages (from azureml-core) (2.8.2)\n",
      "Requirement already satisfied: msal-extensions<=1.0.0,>=0.3.0 in /Users/tannerjameshill/.local/lib/python3.9/site-packages (from azureml-core) (1.0.0)\n",
      "Requirement already satisfied: jmespath<2.0.0 in /Users/tannerjameshill/.local/lib/python3.9/site-packages (from azureml-core) (1.0.1)\n",
      "Requirement already satisfied: PyJWT<3.0.0 in /Users/tannerjameshill/.local/lib/python3.9/site-packages (from azureml-core) (2.7.0)\n",
      "Requirement already satisfied: azure-core<2.0.0 in /Users/tannerjameshill/.local/lib/python3.9/site-packages (from azureml-core) (1.26.4)\n",
      "Requirement already satisfied: pkginfo in /Users/tannerjameshill/.local/lib/python3.9/site-packages (from azureml-core) (1.9.6)\n",
      "Requirement already satisfied: urllib3<2.0.0,>=1.23 in /Users/tannerjameshill/anaconda3/envs/yolov5/lib/python3.9/site-packages (from azureml-core) (1.26.15)\n",
      "Requirement already satisfied: msrestazure<=0.6.4,>=0.4.33 in /Users/tannerjameshill/.local/lib/python3.9/site-packages (from azureml-core) (0.6.4)\n",
      "Requirement already satisfied: msrest<=0.7.1,>=0.5.1 in /Users/tannerjameshill/.local/lib/python3.9/site-packages (from azureml-core) (0.7.1)\n",
      "Requirement already satisfied: azure-graphrbac<1.0.0,>=0.40.0 in /Users/tannerjameshill/.local/lib/python3.9/site-packages (from azureml-core) (0.61.1)\n",
      "Requirement already satisfied: pytz in /Users/tannerjameshill/anaconda3/envs/yolov5/lib/python3.9/site-packages (from azureml-core) (2022.7)\n",
      "Requirement already satisfied: humanfriendly<11.0,>=4.7 in /Users/tannerjameshill/.local/lib/python3.9/site-packages (from azureml-core) (10.0)\n",
      "Requirement already satisfied: docker<7.0.0 in /Users/tannerjameshill/.local/lib/python3.9/site-packages (from azureml-core) (6.1.1)\n",
      "Requirement already satisfied: azure-mgmt-keyvault<11.0.0,>=0.40.0 in /Users/tannerjameshill/.local/lib/python3.9/site-packages (from azureml-core) (10.2.1)\n",
      "Requirement already satisfied: cryptography!=1.9,!=2.0.*,!=2.1.*,!=2.2.*,<41 in /Users/tannerjameshill/anaconda3/envs/yolov5/lib/python3.9/site-packages (from azureml-core) (39.0.1)\n",
      "Requirement already satisfied: azure-mgmt-resource<=22.0.0,>=15.0.0 in /Users/tannerjameshill/.local/lib/python3.9/site-packages (from azureml-core) (22.0.0)\n",
      "Requirement already satisfied: requests[socks]<3.0.0,>=2.19.1 in /Users/tannerjameshill/anaconda3/envs/yolov5/lib/python3.9/site-packages (from azureml-core) (2.29.0)\n",
      "Requirement already satisfied: ndg-httpsclient<=0.5.1 in /Users/tannerjameshill/.local/lib/python3.9/site-packages (from azureml-core) (0.5.1)\n",
      "Requirement already satisfied: pathspec<1.0.0 in /Users/tannerjameshill/.local/lib/python3.9/site-packages (from azureml-core) (0.11.1)\n",
      "Requirement already satisfied: azure-mgmt-authorization<4,>=0.40.0 in /Users/tannerjameshill/.local/lib/python3.9/site-packages (from azureml-core) (3.0.0)\n",
      "Requirement already satisfied: adal<=1.2.7,>=1.2.0 in /Users/tannerjameshill/.local/lib/python3.9/site-packages (from azureml-core) (1.2.7)\n",
      "Requirement already satisfied: pyopenssl<24.0.0 in /Users/tannerjameshill/anaconda3/envs/yolov5/lib/python3.9/site-packages (from azureml-core) (23.0.0)\n",
      "Requirement already satisfied: contextlib2<22.0.0 in /Users/tannerjameshill/.local/lib/python3.9/site-packages (from azureml-core) (21.6.0)\n",
      "Requirement already satisfied: knack~=0.10.0 in /Users/tannerjameshill/.local/lib/python3.9/site-packages (from azureml-core) (0.10.1)\n",
      "Requirement already satisfied: azure-mgmt-containerregistry<11,>=8.2.0 in /Users/tannerjameshill/.local/lib/python3.9/site-packages (from azureml-core) (10.1.0)\n",
      "Requirement already satisfied: msal<2.0.0,>=1.15.0 in /Users/tannerjameshill/.local/lib/python3.9/site-packages (from azureml-core) (1.22.0)\n",
      "Requirement already satisfied: six>=1.11.0 in /Users/tannerjameshill/anaconda3/envs/yolov5/lib/python3.9/site-packages (from azure-core<2.0.0->azureml-core) (1.16.0)\n",
      "Requirement already satisfied: typing-extensions>=4.3.0 in /Users/tannerjameshill/anaconda3/envs/yolov5/lib/python3.9/site-packages (from azure-core<2.0.0->azureml-core) (4.5.0)\n",
      "Requirement already satisfied: azure-mgmt-core<2.0.0,>=1.3.2 in /Users/tannerjameshill/.local/lib/python3.9/site-packages (from azure-mgmt-authorization<4,>=0.40.0->azureml-core) (1.4.0)\n",
      "Requirement already satisfied: isodate<1.0.0,>=0.6.1 in /Users/tannerjameshill/.local/lib/python3.9/site-packages (from azure-mgmt-keyvault<11.0.0,>=0.40.0->azureml-core) (0.6.1)\n",
      "Requirement already satisfied: cffi>=1.12 in /Users/tannerjameshill/anaconda3/envs/yolov5/lib/python3.9/site-packages (from cryptography!=1.9,!=2.0.*,!=2.1.*,!=2.2.*,<41->azureml-core) (1.15.1)\n",
      "Requirement already satisfied: websocket-client>=0.32.0 in /Users/tannerjameshill/anaconda3/envs/yolov5/lib/python3.9/site-packages (from docker<7.0.0->azureml-core) (0.58.0)\n",
      "Requirement already satisfied: pyyaml in /Users/tannerjameshill/.local/lib/python3.9/site-packages (from knack~=0.10.0->azureml-core) (6.0)\n",
      "Requirement already satisfied: pygments in /Users/tannerjameshill/anaconda3/envs/yolov5/lib/python3.9/site-packages (from knack~=0.10.0->azureml-core) (2.15.1)\n",
      "Requirement already satisfied: tabulate in /Users/tannerjameshill/.local/lib/python3.9/site-packages (from knack~=0.10.0->azureml-core) (0.9.0)\n",
      "Requirement already satisfied: portalocker<3,>=1.0 in /Users/tannerjameshill/.local/lib/python3.9/site-packages (from msal-extensions<=1.0.0,>=0.3.0->azureml-core) (2.7.0)\n",
      "Requirement already satisfied: requests-oauthlib>=0.5.0 in /Users/tannerjameshill/.local/lib/python3.9/site-packages (from msrest<=0.7.1,>=0.5.1->azureml-core) (1.3.1)\n",
      "Requirement already satisfied: certifi>=2017.4.17 in /Users/tannerjameshill/anaconda3/envs/yolov5/lib/python3.9/site-packages (from msrest<=0.7.1,>=0.5.1->azureml-core) (2023.5.7)\n",
      "Requirement already satisfied: pyasn1>=0.1.1 in /Users/tannerjameshill/.local/lib/python3.9/site-packages (from ndg-httpsclient<=0.5.1->azureml-core) (0.5.0)\n",
      "Requirement already satisfied: bcrypt>=3.2 in /Users/tannerjameshill/.local/lib/python3.9/site-packages (from paramiko<4.0.0,>=2.0.8->azureml-core) (4.0.1)\n",
      "Requirement already satisfied: pynacl>=1.5 in /Users/tannerjameshill/.local/lib/python3.9/site-packages (from paramiko<4.0.0,>=2.0.8->azureml-core) (1.5.0)\n",
      "Requirement already satisfied: charset-normalizer<4,>=2 in /Users/tannerjameshill/anaconda3/envs/yolov5/lib/python3.9/site-packages (from requests[socks]<3.0.0,>=2.19.1->azureml-core) (2.0.4)\n",
      "Requirement already satisfied: idna<4,>=2.5 in /Users/tannerjameshill/anaconda3/envs/yolov5/lib/python3.9/site-packages (from requests[socks]<3.0.0,>=2.19.1->azureml-core) (3.4)\n",
      "Requirement already satisfied: PySocks!=1.5.7,>=1.5.6 in /Users/tannerjameshill/anaconda3/envs/yolov5/lib/python3.9/site-packages (from requests[socks]<3.0.0,>=2.19.1->azureml-core) (1.7.1)\n",
      "Requirement already satisfied: jeepney>=0.6 in /Users/tannerjameshill/.local/lib/python3.9/site-packages (from SecretStorage<4.0.0->azureml-core) (0.8.0)\n",
      "Requirement already satisfied: backports.weakref in /Users/tannerjameshill/.local/lib/python3.9/site-packages (from backports.tempfile->azureml-core) (1.0.post1)\n",
      "Requirement already satisfied: pycparser in /Users/tannerjameshill/anaconda3/envs/yolov5/lib/python3.9/site-packages (from cffi>=1.12->cryptography!=1.9,!=2.0.*,!=2.1.*,!=2.2.*,<41->azureml-core) (2.21)\n",
      "Requirement already satisfied: oauthlib>=3.0.0 in /Users/tannerjameshill/.local/lib/python3.9/site-packages (from requests-oauthlib>=0.5.0->msrest<=0.7.1,>=0.5.1->azureml-core) (3.2.2)\n",
      "Note: you may need to restart the kernel to use updated packages.\n",
      "Requirement already satisfied: sklearn in /Users/tannerjameshill/.local/lib/python3.9/site-packages (0.0.post5)\n",
      "Note: you may need to restart the kernel to use updated packages.\n"
     ]
    }
   ],
   "source": [
    "%pip install -r ./requirements.txt --user \n",
    "%pip install sklearn scikit-image azureml-core --user\n",
    "%pip install sklearn --user"
   ]
  },
  {
   "cell_type": "code",
   "execution_count": 2,
   "metadata": {},
   "outputs": [],
   "source": [
    "from util import labeledImage, normalize_coordinates, convert_to_yolo_format\n",
    "from sklearn.model_selection import train_test_split\n",
    "import os, shutil, yaml"
   ]
  },
  {
   "cell_type": "code",
   "execution_count": 3,
   "metadata": {},
   "outputs": [],
   "source": [
    "# Set the path to the root folder that contains images and labels\n",
    "# Example:\n",
    "#    - PC: path_to_Mse544_cv = 'C:/Users/Luna/DataScience/Mse544-CustomVision'\n",
    "#    - Mac: path_to_Mse544_cv = '/Users/luna/Mse-544-CustomVision'\n",
    "\n",
    "source_images_dir = f'./defects/'\n",
    "source_labels_dir = f'./defects/lables/'\n",
    "labeled_images = []\n",
    "tag = 'Defects' \n",
    "\n",
    "for file in os.listdir(source_images_dir):\n",
    "    # find all jpeg file and it's ImageJ label\n",
    "    if file.endswith(\".png\"):\n",
    "        image_path = os.path.join(source_images_dir, file)\n",
    "        label_path = os.path.join(source_labels_dir, file.split('.')[0] + '.txt')\n",
    "        labeled_images.append(labeledImage(image_path))\n",
    "        labeled_images[-1].add_labels_from_file(tag, label_path)"
   ]
  },
  {
   "cell_type": "code",
   "execution_count": 4,
   "metadata": {},
   "outputs": [
    {
     "data": {
      "text/plain": [
       "(19, 6, 3)"
      ]
     },
     "execution_count": 4,
     "metadata": {},
     "output_type": "execute_result"
    }
   ],
   "source": [
    "train_and_val_set, test_set = train_test_split(labeled_images, test_size=0.1)\n",
    "train_set, val_set = train_test_split(train_and_val_set, test_size=(2/9))\n",
    "\n",
    "len(train_set), len(val_set), len(test_set)"
   ]
  },
  {
   "cell_type": "code",
   "execution_count": 5,
   "metadata": {},
   "outputs": [],
   "source": [
    "# Create the molecule_images directory if it doesn't exist\n",
    "output_dir = os.path.join(os.getcwd(),'defect_images')\n",
    "if not os.path.exists(output_dir): os.mkdir(output_dir)\n",
    "\n",
    "train_dir = os.path.join(output_dir, 'train') \n",
    "val_dir   = os.path.join(output_dir, 'val') \n",
    "test_dir  = os.path.join(output_dir, 'test') \n",
    "\n",
    "# Create the sub-directories\n",
    "for d in [train_dir, val_dir, test_dir]:\n",
    "    if not os.path.exists(d): os.mkdir(d)\n",
    "    \n",
    "    images_sub_dir = os.path.join(d, 'images')\n",
    "    labels_sub_dir = os.path.join(d, 'labels')\n",
    "    \n",
    "    for sub_dir in [images_sub_dir, labels_sub_dir]:\n",
    "        if not os.path.exists(sub_dir): os.mkdir(sub_dir)"
   ]
  },
  {
   "cell_type": "code",
   "execution_count": 6,
   "metadata": {},
   "outputs": [
    {
     "name": "stdout",
     "output_type": "stream",
     "text": [
      "successfully generated labels for image  4.png\n",
      "successfully generated labels for image  14.png\n",
      "successfully generated labels for image  12.png\n",
      "successfully generated labels for image  1.png\n",
      "successfully generated labels for image  18.png\n",
      "successfully generated labels for image  25.png\n",
      "successfully generated labels for image  10.png\n",
      "successfully generated labels for image  24.png\n",
      "successfully generated labels for image  11.png\n",
      "successfully generated labels for image  13.png\n",
      "successfully generated labels for image  19.png\n",
      "successfully generated labels for image  2.png\n",
      "successfully generated labels for image  28.png\n",
      "successfully generated labels for image  5.png\n",
      "successfully generated labels for image  15.png\n",
      "successfully generated labels for image  27.png\n",
      "successfully generated labels for image  23.png\n",
      "successfully generated labels for image  16.png\n",
      "successfully generated labels for image  17.png\n",
      "successfully generated labels for image  7.png\n",
      "successfully generated labels for image  22.png\n",
      "successfully generated labels for image  8.png\n",
      "successfully generated labels for image  20.png\n",
      "successfully generated labels for image  26.png\n",
      "successfully generated labels for image  9.png\n",
      "successfully generated labels for image  3.png\n",
      "successfully generated labels for image  6.png\n",
      "successfully generated labels for image  21.png\n"
     ]
    }
   ],
   "source": [
    "# make unified yolo tags \n",
    "tags = [tag]\n",
    "\n",
    "# zip the dataset\n",
    "dataset = [(train_dir, train_set),(val_dir, val_set),(test_dir, test_set)]\n",
    "\n",
    "for d, s in dataset:\n",
    "    images_sub_dir = os.path.join(d, 'images')\n",
    "    labels_sub_dir = os.path.join(d, 'labels')\n",
    "\n",
    "    # copy over the images\n",
    "    for img in s:\n",
    "        shutil.copyfile(img.path, os.path.join(images_sub_dir, img.name))\n",
    "    \n",
    "    # covert ImageJ labels to yolo format and save it to labels_sub_dir\n",
    "    convert_to_yolo_format(s, labels_sub_dir, tags)"
   ]
  },
  {
   "cell_type": "code",
   "execution_count": 7,
   "metadata": {},
   "outputs": [],
   "source": [
    "# generate yolo yaml file\n",
    "yolo_yaml = os.path.join(output_dir, 'molecule_detection_yolov5.yaml')\n",
    "\n",
    "with open(yolo_yaml, 'w') as yamlout:\n",
    "    yaml.dump(\n",
    "        {'train': train_dir,\n",
    "         'val': val_dir,\n",
    "         'nc': len(tags),\n",
    "         'names': tags},\n",
    "        yamlout,\n",
    "        default_flow_style=None,\n",
    "        sort_keys=False\n",
    "    )"
   ]
  },
  {
   "cell_type": "code",
   "execution_count": 10,
   "metadata": {},
   "outputs": [
    {
     "name": "stderr",
     "output_type": "stream",
     "text": [
      "\u001b[34m\u001b[1mtrain: \u001b[0mweights=yolov5s.pt, cfg=, data=./defects_images/molecule_detection_yolov5.yaml, hyp=data/hyps/hyp.scratch-low.yaml, epochs=1, batch_size=16, imgsz=640, rect=False, resume=False, nosave=False, noval=False, noautoanchor=False, noplots=False, evolve=None, bucket=, cache=None, image_weights=False, device=, multi_scale=False, single_cls=False, optimizer=SGD, sync_bn=False, workers=8, project=runs/train, name=exp, exist_ok=False, quad=False, cos_lr=False, label_smoothing=0.0, patience=100, freeze=[0], save_period=-1, seed=0, local_rank=-1, entity=None, upload_dataset=False, bbox_interval=-1, artifact_alias=latest\n"
     ]
    },
    {
     "name": "stdout",
     "output_type": "stream",
     "text": [
      "\u001b[34m\u001b[1mgithub: \u001b[0mskipping check (not a git repository), for updates see https://github.com/ultralytics/yolov5\n"
     ]
    },
    {
     "ename": "AssertionError",
     "evalue": "File not found: data/hyps/hyp.scratch-low.yaml",
     "output_type": "error",
     "traceback": [
      "\u001b[0;31m---------------------------------------------------------------------------\u001b[0m",
      "\u001b[0;31mAssertionError\u001b[0m                            Traceback (most recent call last)",
      "File \u001b[0;32m~/MSE544-Final_Hackathon/Mse544-CustomVision-main/train.py:642\u001b[0m\n\u001b[1;32m    640\u001b[0m \u001b[39mif\u001b[39;00m \u001b[39m__name__\u001b[39m \u001b[39m==\u001b[39m \u001b[39m'\u001b[39m\u001b[39m__main__\u001b[39m\u001b[39m'\u001b[39m:\n\u001b[1;32m    641\u001b[0m     opt \u001b[39m=\u001b[39m parse_opt()\n\u001b[0;32m--> 642\u001b[0m     main(opt)\n",
      "File \u001b[0;32m~/MSE544-Final_Hackathon/Mse544-CustomVision-main/train.py:506\u001b[0m, in \u001b[0;36mmain\u001b[0;34m(opt, callbacks)\u001b[0m\n\u001b[1;32m    503\u001b[0m         opt\u001b[39m.\u001b[39mdata \u001b[39m=\u001b[39m check_file(opt_data)  \u001b[39m# avoid HUB resume auth timeout\u001b[39;00m\n\u001b[1;32m    504\u001b[0m \u001b[39melse\u001b[39;00m:\n\u001b[1;32m    505\u001b[0m     opt\u001b[39m.\u001b[39mdata, opt\u001b[39m.\u001b[39mcfg, opt\u001b[39m.\u001b[39mhyp, opt\u001b[39m.\u001b[39mweights, opt\u001b[39m.\u001b[39mproject \u001b[39m=\u001b[39m \\\n\u001b[0;32m--> 506\u001b[0m         check_file(opt\u001b[39m.\u001b[39mdata), check_yaml(opt\u001b[39m.\u001b[39mcfg), check_yaml(opt\u001b[39m.\u001b[39;49mhyp), \u001b[39mstr\u001b[39m(opt\u001b[39m.\u001b[39mweights), \u001b[39mstr\u001b[39m(opt\u001b[39m.\u001b[39mproject)  \u001b[39m# checks\u001b[39;00m\n\u001b[1;32m    507\u001b[0m     \u001b[39massert\u001b[39;00m \u001b[39mlen\u001b[39m(opt\u001b[39m.\u001b[39mcfg) \u001b[39mor\u001b[39;00m \u001b[39mlen\u001b[39m(opt\u001b[39m.\u001b[39mweights), \u001b[39m'\u001b[39m\u001b[39meither --cfg or --weights must be specified\u001b[39m\u001b[39m'\u001b[39m\n\u001b[1;32m    508\u001b[0m     \u001b[39mif\u001b[39;00m opt\u001b[39m.\u001b[39mevolve:\n",
      "File \u001b[0;32m~/MSE544-Final_Hackathon/Mse544-CustomVision-main/utils/general.py:432\u001b[0m, in \u001b[0;36mcheck_yaml\u001b[0;34m(file, suffix)\u001b[0m\n\u001b[1;32m    430\u001b[0m \u001b[39mdef\u001b[39;00m \u001b[39mcheck_yaml\u001b[39m(file, suffix\u001b[39m=\u001b[39m(\u001b[39m'\u001b[39m\u001b[39m.yaml\u001b[39m\u001b[39m'\u001b[39m, \u001b[39m'\u001b[39m\u001b[39m.yml\u001b[39m\u001b[39m'\u001b[39m)):\n\u001b[1;32m    431\u001b[0m     \u001b[39m# Search/download YAML file (if necessary) and return path, checking suffix\u001b[39;00m\n\u001b[0;32m--> 432\u001b[0m     \u001b[39mreturn\u001b[39;00m check_file(file, suffix)\n",
      "File \u001b[0;32m~/MSE544-Final_Hackathon/Mse544-CustomVision-main/utils/general.py:458\u001b[0m, in \u001b[0;36mcheck_file\u001b[0;34m(file, suffix)\u001b[0m\n\u001b[1;32m    456\u001b[0m \u001b[39mfor\u001b[39;00m d \u001b[39min\u001b[39;00m \u001b[39m'\u001b[39m\u001b[39mdata\u001b[39m\u001b[39m'\u001b[39m, \u001b[39m'\u001b[39m\u001b[39mmodels\u001b[39m\u001b[39m'\u001b[39m, \u001b[39m'\u001b[39m\u001b[39mutils\u001b[39m\u001b[39m'\u001b[39m:  \u001b[39m# search directories\u001b[39;00m\n\u001b[1;32m    457\u001b[0m     files\u001b[39m.\u001b[39mextend(glob\u001b[39m.\u001b[39mglob(\u001b[39mstr\u001b[39m(ROOT \u001b[39m/\u001b[39m d \u001b[39m/\u001b[39m \u001b[39m'\u001b[39m\u001b[39m**\u001b[39m\u001b[39m'\u001b[39m \u001b[39m/\u001b[39m file), recursive\u001b[39m=\u001b[39m\u001b[39mTrue\u001b[39;00m))  \u001b[39m# find file\u001b[39;00m\n\u001b[0;32m--> 458\u001b[0m \u001b[39massert\u001b[39;00m \u001b[39mlen\u001b[39m(files), \u001b[39mf\u001b[39m\u001b[39m'\u001b[39m\u001b[39mFile not found: \u001b[39m\u001b[39m{\u001b[39;00mfile\u001b[39m}\u001b[39;00m\u001b[39m'\u001b[39m  \u001b[39m# assert file was found\u001b[39;00m\n\u001b[1;32m    459\u001b[0m \u001b[39massert\u001b[39;00m \u001b[39mlen\u001b[39m(files) \u001b[39m==\u001b[39m \u001b[39m1\u001b[39m, \u001b[39mf\u001b[39m\u001b[39m\"\u001b[39m\u001b[39mMultiple files match \u001b[39m\u001b[39m'\u001b[39m\u001b[39m{\u001b[39;00mfile\u001b[39m}\u001b[39;00m\u001b[39m'\u001b[39m\u001b[39m, specify exact path: \u001b[39m\u001b[39m{\u001b[39;00mfiles\u001b[39m}\u001b[39;00m\u001b[39m\"\u001b[39m  \u001b[39m# assert unique\u001b[39;00m\n\u001b[1;32m    460\u001b[0m \u001b[39mreturn\u001b[39;00m files[\u001b[39m0\u001b[39m]\n",
      "\u001b[0;31mAssertionError\u001b[0m: File not found: data/hyps/hyp.scratch-low.yaml"
     ]
    }
   ],
   "source": [
    "%run ./train.py --img 640 --batch 16 --epochs 1 --data ./defects_images/molecule_detection_yolov5.yaml --weights yolov5s.pt\n"
   ]
  },
  {
   "cell_type": "code",
   "execution_count": 9,
   "metadata": {},
   "outputs": [
    {
     "data": {
      "text/plain": [
       "'/Users/tannerjameshill/MSE544-Final_Hackathon/Mse544-CustomVision-main'"
      ]
     },
     "execution_count": 9,
     "metadata": {},
     "output_type": "execute_result"
    }
   ],
   "source": [
    "pwd"
   ]
  },
  {
   "cell_type": "code",
   "execution_count": null,
   "metadata": {},
   "outputs": [],
   "source": [
    "from azureml.core import Workspace, Experiment, Environment, ScriptRunConfig\n",
    "from azureml.core.conda_dependencies import CondaDependencies"
   ]
  },
  {
   "cell_type": "code",
   "execution_count": null,
   "metadata": {},
   "outputs": [],
   "source": [
    "yolov5_env = Environment(name=\"yolov5_env\")\n",
    "\n",
    "# Start from a base docker environments defined by Microsoft\n",
    "yolov5_env.docker.base_image  = \"mcr.microsoft.com/azureml/openmpi4.1.0-cuda11.0.3-cudnn8-ubuntu18.04\"\n",
    "\n",
    "conda_dep = CondaDependencies()\n",
    "# Indicate which version of python needs to be installed\n",
    "conda_dep.add_conda_package('python=3.9')\n",
    "\n",
    "# install all the yolov5 requirement at the image build time\n",
    "with open('./requirements.txt', 'r') as f:\n",
    "    line = f.readline()\n",
    "    \n",
    "    while line != '':    \n",
    "        # If the line is a comment or empty, skip it    \n",
    "        if line.startswith('#') or len(line.split()) == 0:\n",
    "            line = f.readline()\n",
    "            continue\n",
    "        # Otherwise add the corresponding package name as a dependency\n",
    "        conda_dep.add_pip_package(line.split()[0])\n",
    "        # Then move on to the next line in the requirements.txt file\n",
    "        line = f.readline()\n",
    "\n",
    "yolov5_env.python.conda_dependencies=conda_dep"
   ]
  },
  {
   "cell_type": "code",
   "execution_count": null,
   "metadata": {},
   "outputs": [
    {
     "data": {
      "text/plain": [
       "<bound method Environment.get_image_details of {\n",
       "    \"assetId\": null,\n",
       "    \"databricks\": {\n",
       "        \"eggLibraries\": [],\n",
       "        \"jarLibraries\": [],\n",
       "        \"mavenLibraries\": [],\n",
       "        \"pypiLibraries\": [],\n",
       "        \"rcranLibraries\": []\n",
       "    },\n",
       "    \"docker\": {\n",
       "        \"arguments\": [],\n",
       "        \"baseDockerfile\": null,\n",
       "        \"baseImage\": \"mcr.microsoft.com/azureml/openmpi4.1.0-cuda11.0.3-cudnn8-ubuntu18.04\",\n",
       "        \"baseImageRegistry\": {\n",
       "            \"address\": null,\n",
       "            \"password\": null,\n",
       "            \"registryIdentity\": null,\n",
       "            \"username\": null\n",
       "        },\n",
       "        \"buildContext\": null,\n",
       "        \"enabled\": false,\n",
       "        \"platform\": {\n",
       "            \"architecture\": \"amd64\",\n",
       "            \"os\": \"Linux\"\n",
       "        },\n",
       "        \"sharedVolumes\": true,\n",
       "        \"shmSize\": \"2g\"\n",
       "    },\n",
       "    \"environmentVariables\": {\n",
       "        \"EXAMPLE_ENV_VAR\": \"EXAMPLE_VALUE\"\n",
       "    },\n",
       "    \"inferencingStackVersion\": null,\n",
       "    \"name\": \"yolov5_env\",\n",
       "    \"python\": {\n",
       "        \"baseCondaEnvironment\": null,\n",
       "        \"condaDependencies\": {\n",
       "            \"channels\": [\n",
       "                \"anaconda\",\n",
       "                \"conda-forge\"\n",
       "            ],\n",
       "            \"dependencies\": [\n",
       "                \"python=3.9\",\n",
       "                {\n",
       "                    \"pip\": [\n",
       "                        \"azureml-defaults\",\n",
       "                        \"gitpython>=3.1.30\",\n",
       "                        \"matplotlib>=3.3\",\n",
       "                        \"numpy>=1.18.5\",\n",
       "                        \"opencv-python>=4.1.1\",\n",
       "                        \"Pillow>=7.1.2\",\n",
       "                        \"psutil\",\n",
       "                        \"PyYAML>=5.3.1\",\n",
       "                        \"requests>=2.23.0\",\n",
       "                        \"scipy>=1.4.1\",\n",
       "                        \"thop>=0.1.1\",\n",
       "                        \"torch>=1.7.0\",\n",
       "                        \"torchvision>=0.8.1\",\n",
       "                        \"tqdm>=4.64.0\",\n",
       "                        \"ultralytics>=8.0.100\",\n",
       "                        \"pandas>=1.1.4\",\n",
       "                        \"seaborn>=0.11.0\",\n",
       "                        \"setuptools>=65.5.1\"\n",
       "                    ]\n",
       "                }\n",
       "            ],\n",
       "            \"name\": \"project_environment\"\n",
       "        },\n",
       "        \"condaDependenciesFile\": null,\n",
       "        \"interpreterPath\": \"python\",\n",
       "        \"userManagedDependencies\": false\n",
       "    },\n",
       "    \"r\": null,\n",
       "    \"spark\": {\n",
       "        \"packages\": [],\n",
       "        \"precachePackages\": true,\n",
       "        \"repositories\": []\n",
       "    },\n",
       "    \"version\": null\n",
       "}>"
      ]
     },
     "execution_count": 76,
     "metadata": {},
     "output_type": "execute_result"
    }
   ],
   "source": [
    "yolov5_env.get_image_details\n"
   ]
  },
  {
   "cell_type": "code",
   "execution_count": null,
   "metadata": {},
   "outputs": [],
   "source": [
    "from azureml.core import Workspace, Experiment, Environment, ScriptRunConfig\n",
    "from azureml.core.conda_dependencies import CondaDependencies"
   ]
  },
  {
   "cell_type": "code",
   "execution_count": null,
   "metadata": {},
   "outputs": [],
   "source": [
    "subscription_id = 'd2f930b7-20f6-402b-b126-8cec0a2c1dd7'\n",
    "resource_group  = 'rg-amlclass-thill3'\n",
    "workspace_name  = 'azureml-thill3'\n",
    "ws = Workspace(subscription_id, resource_group, workspace_name)\n",
    "\n",
    "experiment = Experiment(workspace=ws, name='molecule_detection_yolo_training')"
   ]
  },
  {
   "cell_type": "code",
   "execution_count": null,
   "metadata": {},
   "outputs": [],
   "source": [
    "# Overall configuration for the script to be run on the compute cluster\n",
    "config = ScriptRunConfig(source_directory='./deploy_yolo_training/',   ## folder in which the script is located\n",
    "                         script='training_on_aml.py',       ## script name\n",
    "                         compute_target='GPU-thill3',\n",
    "                         environment=yolov5_env)   "
   ]
  },
  {
   "cell_type": "code",
   "execution_count": null,
   "metadata": {},
   "outputs": [
    {
     "data": {
      "text/plain": [
       "'/Users/tannerjameshill/MSE544-Final_Hackathon/Mse544-CustomVision-main'"
      ]
     },
     "execution_count": 80,
     "metadata": {},
     "output_type": "execute_result"
    }
   ],
   "source": [
    "os.getcwd()\n"
   ]
  },
  {
   "cell_type": "code",
   "execution_count": null,
   "metadata": {},
   "outputs": [],
   "source": [
    "# make sure you are in the same folder of this notebook\n",
    "#%cd <path-to-MSE544_yolo_training>"
   ]
  },
  {
   "cell_type": "code",
   "execution_count": null,
   "metadata": {},
   "outputs": [
    {
     "name": "stdout",
     "output_type": "stream",
     "text": [
      "https://ml.azure.com/runs/molecule_detection_yolo_training_1685400588_19da9fa1?wsid=/subscriptions/d2f930b7-20f6-402b-b126-8cec0a2c1dd7/resourcegroups/rg-amlclass-thill3/workspaces/azureml-thill3&tid=f6b6dd5b-f02f-441a-99a0-162ac5060bd2\n"
     ]
    }
   ],
   "source": [
    "run = experiment.submit(config)\n",
    "aml_url = run.get_portal_url()\n",
    "print(aml_url)"
   ]
  }
 ],
 "metadata": {
  "kernelspec": {
   "display_name": "yolov5",
   "language": "python",
   "name": "python3"
  },
  "language_info": {
   "codemirror_mode": {
    "name": "ipython",
    "version": 3
   },
   "file_extension": ".py",
   "mimetype": "text/x-python",
   "name": "python",
   "nbconvert_exporter": "python",
   "pygments_lexer": "ipython3",
   "version": "3.9.16"
  },
  "orig_nbformat": 4
 },
 "nbformat": 4,
 "nbformat_minor": 2
}
